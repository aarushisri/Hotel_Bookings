{
  "nbformat": 4,
  "nbformat_minor": 0,
  "metadata": {
    "colab": {
      "private_outputs": true,
      "provenance": [],
      "collapsed_sections": [
        "vncDsAP0Gaoa",
        "FJNUwmbgGyua",
        "w6K7xa23Elo4",
        "yQaldy8SH6Dl",
        "PH-0ReGfmX4f",
        "mDgbUHAGgjLW",
        "O_i_v8NEhb9l",
        "HhfV-JJviCcP",
        "Y3lxredqlCYt",
        "3RnN4peoiCZX",
        "x71ZqKXriCWQ",
        "7hBIi_osiCS2",
        "JlHwYmJAmNHm",
        "35m5QtbWiB9F",
        "PoPl-ycgm1ru",
        "H0kj-8xxnORC",
        "nA9Y7ga8ng1Z",
        "PBTbrJXOngz2",
        "u3PMJOP6ngxN",
        "dauF4eBmngu3",
        "bKJF3rekwFvQ",
        "MSa1f5Uengrz",
        "GF8Ens_Soomf",
        "0wOQAZs5pc--",
        "K5QZ13OEpz2H",
        "lQ7QKXXCp7Bj",
        "448CDAPjqfQr",
        "KSlN3yHqYklG",
        "t6dVpIINYklI",
        "ijmpgYnKYklI",
        "-JiQyfWJYklI",
        "EM7whBJCYoAo",
        "fge-S5ZAYoAp",
        "85gYPyotYoAp",
        "RoGjAbkUYoAp",
        "4Of9eVA-YrdM",
        "iky9q4vBYrdO",
        "F6T5p64dYrdO",
        "y-Ehk30pYrdP",
        "bamQiAODYuh1",
        "QHF8YVU7Yuh3",
        "GwzvFGzlYuh3",
        "qYpmQ266Yuh3",
        "OH-pJp9IphqM",
        "bbFf2-_FphqN",
        "_ouA3fa0phqN",
        "Seke61FWphqN",
        "PIIx-8_IphqN",
        "t27r6nlMphqO",
        "r2jJGEOYphqO",
        "b0JNsNcRphqO",
        "BZR9WyysphqO",
        "jj7wYXLtphqO",
        "eZrbJ2SmphqO",
        "rFu4xreNphqO",
        "YJ55k-q6phqO",
        "gCFgpxoyphqP",
        "OVtJsKN_phqQ",
        "lssrdh5qphqQ",
        "U2RJ9gkRphqQ",
        "1M8mcRywphqQ",
        "tgIPom80phqQ",
        "JMzcOPDDphqR",
        "x-EpHcCOp1ci",
        "X_VqEhTip1ck",
        "8zGJKyg5p1ck",
        "PVzmfK_Ep1ck",
        "n3dbpmDWp1ck",
        "ylSl6qgtp1ck",
        "ZWILFDl5p1ck",
        "M7G43BXep1ck",
        "Ag9LCva-p1cl",
        "E6MkPsBcp1cl",
        "2cELzS2fp1cl",
        "3MPXvC8up1cl",
        "NC_X3p0fY2L0",
        "UV0SzAkaZNRQ",
        "YPEH6qLeZNRQ",
        "q29F0dvdveiT",
        "EXh0U9oCveiU",
        "22aHeOlLveiV",
        "JcMwzZxoAimU",
        "8G2x9gOozGDZ",
        "gCX9965dhzqZ",
        "gIfDvo9L0UH2"
      ],
      "include_colab_link": true
    },
    "kernelspec": {
      "name": "python3",
      "display_name": "Python 3"
    },
    "language_info": {
      "name": "python"
    }
  },
  "cells": [
    {
      "cell_type": "markdown",
      "metadata": {
        "id": "view-in-github",
        "colab_type": "text"
      },
      "source": [
        "<a href=\"https://colab.research.google.com/github/aarushisri/Hotel_Bookings/blob/main/EDA_Submission_HotelBookings.ipynb\" target=\"_parent\"><img src=\"https://colab.research.google.com/assets/colab-badge.svg\" alt=\"Open In Colab\"/></a>"
      ]
    },
    {
      "cell_type": "markdown",
      "source": [
        "# **Project Name**    - Hotel Booking Analysis\n",
        "\n"
      ],
      "metadata": {
        "id": "vncDsAP0Gaoa"
      }
    },
    {
      "cell_type": "markdown",
      "source": [
        "##### **Project Type**    - EDA\n",
        "##### **Contribution**    - Individual"
      ],
      "metadata": {
        "id": "beRrZCGUAJYm"
      }
    },
    {
      "cell_type": "markdown",
      "source": [
        "# **Project Summary -**"
      ],
      "metadata": {
        "id": "FJNUwmbgGyua"
      }
    },
    {
      "cell_type": "markdown",
      "source": [
        "The dataset we are dealing with here, presents a birdeye view of hotel bookings, preferences made during booking in terms of meal,parking slots,distribution channels invoved, repeated customers and much more.\n",
        "\n",
        "   The Hotel industry is an ever-growing industry and various kinds of trends demand to be noticed and exercised regularly in order to minimize retention rates and expand businesses.The average hotel occupancy rate is around 66% in India and the revenue generated is over $3.952 trillion world-wide , so we can assuredly say that the industry is here to stay and proliferate for higher returns.\n",
        "\n",
        "   In this project, I will try to highlight the significant business-impacting trends oberved over the period of time like when the best time of year to book a hotel room is and which amenities or practices result in higher booking rates and make some useful analysis to facilitate the interest of stake holders and business owners in terms of reducing retentions rates, identifying the indicators as to why the guests are leaving or not re-booking and measures to amplify the bookings.\n",
        "\n",
        "\n",
        " "
      ],
      "metadata": {
        "id": "F6v_1wHtG2nS"
      }
    },
    {
      "cell_type": "markdown",
      "source": [
        "# **GitHub Link -**"
      ],
      "metadata": {
        "id": "w6K7xa23Elo4"
      }
    },
    {
      "cell_type": "markdown",
      "source": [],
      "metadata": {
        "id": "DhyEQUa-xXaD"
      }
    },
    {
      "cell_type": "markdown",
      "source": [
        "Provide your GitHub Link here."
      ],
      "metadata": {
        "id": "h1o69JH3Eqqn"
      }
    },
    {
      "cell_type": "markdown",
      "source": [
        "# **Problem Statement**\n"
      ],
      "metadata": {
        "id": "yQaldy8SH6Dl"
      }
    },
    {
      "cell_type": "markdown",
      "source": [
        "*Exploration of dataset to derive useful insights that govern the bookings.*"
      ],
      "metadata": {
        "id": "DpeJGUA3kjGy"
      }
    },
    {
      "cell_type": "markdown",
      "source": [
        "#### **Define Your Business Objective?**"
      ],
      "metadata": {
        "id": "PH-0ReGfmX4f"
      }
    },
    {
      "cell_type": "markdown",
      "source": [
        "*Analysing important factors that govern hotel bookings.*"
      ],
      "metadata": {
        "id": "PhDvGCAqmjP1"
      }
    },
    {
      "cell_type": "markdown",
      "source": [
        "# **General Guidelines** : -  "
      ],
      "metadata": {
        "id": "mDgbUHAGgjLW"
      }
    },
    {
      "cell_type": "markdown",
      "source": [
        "1.   Well-structured, formatted, and commented code is required. \n",
        "2.   Exception Handling, Production Grade Code & Deployment Ready Code will be a plus. Those students will be awarded some additional credits. \n",
        "     \n",
        "     The additional credits will have advantages over other students during Star Student selection.\n",
        "       \n",
        "             [ Note: - Deployment Ready Code is defined as, the whole .ipynb notebook should be executable in one go\n",
        "                       without a single error logged. ]\n",
        "\n",
        "3.   Each and every logic should have proper comments.\n",
        "4. You may add as many number of charts you want. Make Sure for each and every chart the following format should be answered.\n",
        "        \n",
        "\n",
        "```\n",
        "# Chart visualization code\n",
        "```\n",
        "            \n",
        "\n",
        "*   Why did you pick the specific chart?\n",
        "*   What is/are the insight(s) found from the chart?\n",
        "* Will the gained insights help creating a positive business impact? \n",
        "Are there any insights that lead to negative growth? Justify with specific reason.\n",
        "\n",
        "5. You have to create at least 20 logical & meaningful charts having important insights.\n",
        "\n",
        "\n",
        "[ Hints : - Do the Vizualization in  a structured way while following \"UBM\" Rule. \n",
        "\n",
        "U - Univariate Analysis,\n",
        "\n",
        "B - Bivariate Analysis (Numerical - Categorical, Numerical - Numerical, Categorical - Categorical)\n",
        "\n",
        "M - Multivariate Analysis\n",
        " ]\n",
        "\n",
        "\n",
        "\n"
      ],
      "metadata": {
        "id": "ZrxVaUj-hHfC"
      }
    },
    {
      "cell_type": "markdown",
      "source": [
        "# ***Let's Begin !***"
      ],
      "metadata": {
        "id": "O_i_v8NEhb9l"
      }
    },
    {
      "cell_type": "markdown",
      "source": [
        "## ***1. Know Your Data***"
      ],
      "metadata": {
        "id": "HhfV-JJviCcP"
      }
    },
    {
      "cell_type": "markdown",
      "source": [
        "### Import Libraries"
      ],
      "metadata": {
        "id": "Y3lxredqlCYt"
      }
    },
    {
      "cell_type": "code",
      "source": [
        "# Import Libraries\n",
        "import numpy as np\n",
        "import pandas as pd\n",
        "import matplotlib.pyplot as plt\n",
        "%matplotlib inline\n",
        "import seaborn as sns\n",
        "import plotly.express as px"
      ],
      "metadata": {
        "id": "M8Vqi-pPk-HR"
      },
      "execution_count": null,
      "outputs": []
    },
    {
      "cell_type": "markdown",
      "source": [
        "### Dataset Loading"
      ],
      "metadata": {
        "id": "3RnN4peoiCZX"
      }
    },
    {
      "cell_type": "code",
      "source": [
        "from google.colab import drive\n",
        "drive.mount('/content/drive')"
      ],
      "metadata": {
        "id": "egCjsZm40bZU"
      },
      "execution_count": null,
      "outputs": []
    },
    {
      "cell_type": "code",
      "source": [
        "# Load Dataset\n",
        "path = '/content/drive/MyDrive/ColabNotebooks/Module1/EDA_Capstone/Dataset/Hotel_Bookings.csv'\n",
        "df = pd.read_csv(path)"
      ],
      "metadata": {
        "id": "4CkvbW_SlZ_R"
      },
      "execution_count": null,
      "outputs": []
    },
    {
      "cell_type": "markdown",
      "source": [
        "### Dataset First View"
      ],
      "metadata": {
        "id": "x71ZqKXriCWQ"
      }
    },
    {
      "cell_type": "code",
      "source": [
        "# Dataset First Look\n",
        "df.head(2)"
      ],
      "metadata": {
        "id": "LWNFOSvLl09H"
      },
      "execution_count": null,
      "outputs": []
    },
    {
      "cell_type": "markdown",
      "source": [
        "### Dataset Rows & Columns count"
      ],
      "metadata": {
        "id": "7hBIi_osiCS2"
      }
    },
    {
      "cell_type": "code",
      "source": [
        "# Dataset Rows & Columns count\n",
        "df.shape"
      ],
      "metadata": {
        "id": "Kllu7SJgmLij"
      },
      "execution_count": null,
      "outputs": []
    },
    {
      "cell_type": "markdown",
      "source": [
        "### Dataset Information"
      ],
      "metadata": {
        "id": "JlHwYmJAmNHm"
      }
    },
    {
      "cell_type": "code",
      "source": [
        "# Dataset Info\n",
        "df.info()"
      ],
      "metadata": {
        "id": "e9hRXRi6meOf"
      },
      "execution_count": null,
      "outputs": []
    },
    {
      "cell_type": "code",
      "source": [
        "df.describe()"
      ],
      "metadata": {
        "id": "qvm2PVna1KCi"
      },
      "execution_count": null,
      "outputs": []
    },
    {
      "cell_type": "markdown",
      "source": [
        "#### Duplicate Values"
      ],
      "metadata": {
        "id": "35m5QtbWiB9F"
      }
    },
    {
      "cell_type": "code",
      "source": [
        "# Dataset Duplicate Value Count\n",
        "len(df[df.duplicated()])"
      ],
      "metadata": {
        "id": "1sLdpKYkmox0"
      },
      "execution_count": null,
      "outputs": []
    },
    {
      "cell_type": "markdown",
      "source": [
        "#### Missing Values/Null Values"
      ],
      "metadata": {
        "id": "PoPl-ycgm1ru"
      }
    },
    {
      "cell_type": "code",
      "source": [
        "# Missing Values/Null Values Count\n",
        "df.isna().sum()"
      ],
      "metadata": {
        "id": "GgHWkxvamxVg"
      },
      "execution_count": null,
      "outputs": []
    },
    {
      "cell_type": "code",
      "source": [
        "# Visualizing the missing values\n",
        "sns.heatmap(df.isnull(), cbar = False)"
      ],
      "metadata": {
        "id": "3q5wnI3om9sJ"
      },
      "execution_count": null,
      "outputs": []
    },
    {
      "cell_type": "markdown",
      "source": [
        "### What did you know about your dataset?"
      ],
      "metadata": {
        "id": "H0kj-8xxnORC"
      }
    },
    {
      "cell_type": "markdown",
      "source": [
        "The given dataset describes various aspects of Hotel Bookings like meal,country,weekly vs weekend stays,agent etc.\n",
        " Our objective is to analyze various factors that govern bookings and highlight the causes that result in poor business profitability.\n",
        "\n",
        "\n",
        "*  The dataset consist of 119390 rows and 32 columns.\n",
        "*  There are 31994 duplicate values in the dataset.\n",
        "*   There are 4 columns having  missing values:children,country,agent and company.\n",
        "*   The dataset consist of 2 columns having Binary data(0 and 1): is_cancelled, is_repeated_guest.\n",
        "\n",
        "\n",
        "\n",
        "\n",
        "\n",
        "\n",
        "\n",
        "\n",
        "\n",
        "\n",
        "\n",
        "\n",
        "\n",
        "    \n",
        " \n",
        "\n"
      ],
      "metadata": {
        "id": "gfoNAAC-nUe_"
      }
    },
    {
      "cell_type": "markdown",
      "source": [
        "## ***2. Understanding Your Variables***"
      ],
      "metadata": {
        "id": "nA9Y7ga8ng1Z"
      }
    },
    {
      "cell_type": "code",
      "source": [
        "# Dataset Columns\n",
        "df.columns"
      ],
      "metadata": {
        "id": "j7xfkqrt5Ag5"
      },
      "execution_count": null,
      "outputs": []
    },
    {
      "cell_type": "code",
      "source": [
        "# Dataset Describe\n",
        "df.describe()"
      ],
      "metadata": {
        "id": "DnOaZdaE5Q5t"
      },
      "execution_count": null,
      "outputs": []
    },
    {
      "cell_type": "markdown",
      "source": [
        "### Variables Description "
      ],
      "metadata": {
        "id": "PBTbrJXOngz2"
      }
    },
    {
      "cell_type": "markdown",
      "source": [
        "\n",
        "*   **hotel** : there are two types of hotels,city hotel and resort hotel.\n",
        "*   **is_cancelled** : this indicates whether booking was cancelled(1) or not(0)\n",
        "*   **lead_time** : Time lapse between reservation and arrival date.\n",
        "*   **arrival_date_year** : Year of arrival date.\n",
        "*   **arrival_date_month** : Month of arrival date.\n",
        "*   **arrival_date_week_number** : Week number of arrival date.\n",
        "*   **arrival_date_day_of_month** : Day of arrival date.\n",
        "*   **stays_in_weekend_nights** : No of weekend night the guest stayed or booked the stay.\n",
        "*   **stays_in_week_nights** : No of week nights the guest stayed or booked the stay.\n",
        "*   **adults** : No of adults.\n",
        "*   **children** : No of children.\n",
        "*   **babies** : No of babies.\n",
        "*   **meal** : Kind of meal opted for.\n",
        "*   **country** : Country code.\n",
        "*   **market_segment** : Which segment of market the customer belong to.\n",
        "*   **distribution_channel** : How the customer accessed the stay-corporate booking/direct/TA.TO.\n",
        "*   **is_repeated_guest** : Guest coming for first time(0) or not (1).\n",
        "*   **previous_cancellations** : Was there a cancellation before.\n",
        "*   **previous_bookings_not_canceled** : Number of previous bookings not cancelled.\n",
        "*   **reserved_room_type** : Type of room reserved. \n",
        "*   **assigned_room_type** : Type of room assigned.\n",
        "*   **booking_changes** : Count of changes made to the booking.\n",
        "*   **deposit_type** : Deposit Type.\n",
        "*   **agent** : Booked through agent.\n",
        "*   **company** : ID of the company that made the booking.\n",
        "*   **days_in_waiting_list** : Number of days in waiting list.\n",
        "*   **customer_type** : Type of customer-Contract,Group,Transient,Transient Party.\n",
        "*   **adr** : Average Daily Rate\n",
        "*   **required_car_parking_spaces** : If car parking is required.\n",
        "*   **total_of_special_requests** : Number of additional special requirements.\n",
        "*   **reservation_status** : Last status of reservation like checked out,cancelled or no show.\n",
        "*   **reservation_status_date**\t: Date of specified status.\n",
        "\n",
        "\n",
        "      \n",
        "\n",
        "\n",
        "\n"
      ],
      "metadata": {
        "id": "aJV4KIxSnxay"
      }
    },
    {
      "cell_type": "markdown",
      "source": [
        "### Check Unique Values for each variable."
      ],
      "metadata": {
        "id": "u3PMJOP6ngxN"
      }
    },
    {
      "cell_type": "code",
      "source": [
        "# Check Unique Values for each variable.\n",
        "print(\"No. of unique values:\")\n",
        "for i in df.columns.tolist():\n",
        "  print(i,\"= \",df[i].nunique())"
      ],
      "metadata": {
        "id": "zms12Yq5n-jE"
      },
      "execution_count": null,
      "outputs": []
    },
    {
      "cell_type": "markdown",
      "source": [
        "## 3. ***Data Wrangling***"
      ],
      "metadata": {
        "id": "dauF4eBmngu3"
      }
    },
    {
      "cell_type": "markdown",
      "source": [
        "### Data Wrangling Code"
      ],
      "metadata": {
        "id": "bKJF3rekwFvQ"
      }
    },
    {
      "cell_type": "code",
      "source": [
        "# Write your code to make your dataset analysis ready.\n",
        "df_new = df.copy()\n",
        "df_new.head(3)"
      ],
      "metadata": {
        "id": "wk-9a2fpoLcV"
      },
      "execution_count": null,
      "outputs": []
    },
    {
      "cell_type": "code",
      "source": [
        "#dropping dulicates\n",
        "df_new.drop_duplicates(inplace = True)"
      ],
      "metadata": {
        "id": "QmIwYpvI2gbg"
      },
      "execution_count": null,
      "outputs": []
    },
    {
      "cell_type": "code",
      "source": [
        "#merging date,month and year column as arrival timestamp.\n",
        "df_new['arrival_timestamp'] = df_new['arrival_date_day_of_month'].astype(str) + \"-\" + df_new['arrival_date_month'].astype(str) + \"-\" + df_new['arrival_date_year'].astype(str)\n",
        "\n",
        "#merging stays in weekend nights and stays in week nights as total stay\n",
        "df_new['total_stay'] = df_new['stays_in_week_nights'] + df_new['stays_in_weekend_nights']\n",
        "\n",
        "#merging adults,children and babies column as total guests.\n",
        "df_new['total_guests'] = df_new['adults']+df_new['children']+df_new['babies']"
      ],
      "metadata": {
        "id": "1Th8zHGS3190"
      },
      "execution_count": null,
      "outputs": []
    },
    {
      "cell_type": "code",
      "source": [
        "#pd.DataFrame(df_new.groupby('hotel')['hotel'].value_counts().reset_index(name='total bookings'))"
      ],
      "metadata": {
        "id": "b6csZ5BqySjf"
      },
      "execution_count": null,
      "outputs": []
    },
    {
      "cell_type": "code",
      "source": [
        "#Examining hotel type preference in terms of total stay\n",
        "pd.DataFrame(df_new.groupby('hotel')['total_stay'].sum().reset_index(name='total stay'))"
      ],
      "metadata": {
        "id": "d27fO_1R7DG5"
      },
      "execution_count": null,
      "outputs": []
    },
    {
      "cell_type": "code",
      "source": [
        "#Examining average daily rate of City vs Resort Hotel\n",
        "pd.DataFrame(df_new.groupby('hotel')['adr'].sum().reset_index(name='ADR'))"
      ],
      "metadata": {
        "id": "shGnfZi28ffK"
      },
      "execution_count": null,
      "outputs": []
    },
    {
      "cell_type": "code",
      "source": [
        "pd.DataFrame(df_new.groupby('hotel')['previous_cancellations'].sum().reset_index(name='No of cancellations'))"
      ],
      "metadata": {
        "id": "nm3FCHC-Mo10"
      },
      "execution_count": null,
      "outputs": []
    },
    {
      "cell_type": "code",
      "source": [
        "#Analyzing how the deposit type parameter affects the total_stay/bookings made by customers.\n",
        "pd.DataFrame(df_new.groupby('deposit_type')['total_stay'].sum().reset_index(name='total stay'))"
      ],
      "metadata": {
        "id": "KGIykO579J5O"
      },
      "execution_count": null,
      "outputs": []
    },
    {
      "cell_type": "code",
      "source": [
        "#Understanding the relationship between deposit type and nature of cancellations.\n",
        "pd.DataFrame(df_new.groupby('deposit_type')['previous_cancellations'].sum().reset_index(name='No of cancellations'))"
      ],
      "metadata": {
        "id": "r9YYSKr7QPnP"
      },
      "execution_count": null,
      "outputs": []
    },
    {
      "cell_type": "code",
      "source": [
        "#Understanding the affect of deposit type on days in waiting list.\n",
        "pd.DataFrame(df_new.groupby('deposit_type')['days_in_waiting_list'].sum().reset_index(name='No of days in waiting list'))"
      ],
      "metadata": {
        "id": "p_3VLicUR-C8"
      },
      "execution_count": null,
      "outputs": []
    },
    {
      "cell_type": "code",
      "source": [
        "pd.DataFrame(df_new.groupby('customer_type')['total_stay'].sum().reset_index(name='total stay'))"
      ],
      "metadata": {
        "id": "rFKdYzwxQB9H"
      },
      "execution_count": null,
      "outputs": []
    },
    {
      "cell_type": "code",
      "source": [
        "#Understanding if there is a relation between parking spaces and type of hotel preferred based on parking spaces.\n",
        "pd.DataFrame(df_new.groupby('hotel')['required_car_parking_spaces'].value_counts())"
      ],
      "metadata": {
        "id": "MkbKainykoik"
      },
      "execution_count": null,
      "outputs": []
    },
    {
      "cell_type": "code",
      "source": [
        "#Understanding the type of meal preference.\n",
        "pd.DataFrame(df_new.groupby('meal')['meal'].value_counts())"
      ],
      "metadata": {
        "id": "83vsrdk3mnvm"
      },
      "execution_count": null,
      "outputs": []
    },
    {
      "cell_type": "code",
      "source": [
        "#Analyzing which country customers are making maximum reservations.\n",
        "pd.DataFrame(df_new['country'].value_counts().reset_index(name='No of bookings')).head()"
      ],
      "metadata": {
        "id": "gLTiJIlbnKHN"
      },
      "execution_count": null,
      "outputs": []
    },
    {
      "cell_type": "code",
      "source": [
        "#Understanding nature of bookings based on market segment\n",
        "pd.DataFrame(df_new.groupby('market_segment')['total_stay'].sum().reset_index(name='total stay'))"
      ],
      "metadata": {
        "id": "JESWKGFuqPP7"
      },
      "execution_count": null,
      "outputs": []
    },
    {
      "cell_type": "code",
      "source": [
        "#Understanding the ADR based on market segment to target the right category of customer \n",
        "pd.DataFrame(df_new.groupby('market_segment')['adr'].mean().round(2).reset_index(name='ADR')).sort_values( by = 'ADR',ascending = False)"
      ],
      "metadata": {
        "id": "x3QsXkKZqWj6"
      },
      "execution_count": null,
      "outputs": []
    },
    {
      "cell_type": "code",
      "source": [
        "#Understanding the average daily rates of both types of hotels.\n",
        "pd.DataFrame(df_new.groupby('hotel')['adr'].mean().reset_index(name='ADR'))"
      ],
      "metadata": {
        "id": "sLBXDlbrDPua"
      },
      "execution_count": null,
      "outputs": []
    },
    {
      "cell_type": "code",
      "source": [
        "#Understanding the nature of cancellations made by different market segments\n",
        "pd.DataFrame(df_new.groupby('market_segment')['previous_cancellations'].sum().reset_index(name='No. of previous cancellations'))"
      ],
      "metadata": {
        "id": "qCswixiuoFEV"
      },
      "execution_count": null,
      "outputs": []
    },
    {
      "cell_type": "code",
      "source": [
        "#Understanding which market segments are making more repeated bookings.\n",
        "pd.DataFrame(df_new.groupby('market_segment')['is_repeated_guest'].sum().reset_index(name='No. of repeated guests'))"
      ],
      "metadata": {
        "id": "eEHItuOc0OsP"
      },
      "execution_count": null,
      "outputs": []
    },
    {
      "cell_type": "code",
      "source": [
        "#Understanding the relation between total_stay and distribution channel\n",
        "pd.DataFrame(df_new.groupby('distribution_channel')['total_stay'].sum().reset_index(name='Total stay'))"
      ],
      "metadata": {
        "id": "v9KXn53kqemb"
      },
      "execution_count": null,
      "outputs": []
    },
    {
      "cell_type": "code",
      "source": [
        "#Understanding the ADR achived through different distribution channels.\n",
        "pd.DataFrame(df_new.groupby('distribution_channel')['adr'].sum().reset_index(name='ADR'))"
      ],
      "metadata": {
        "id": "ztLpY84zqkYh"
      },
      "execution_count": null,
      "outputs": []
    },
    {
      "cell_type": "code",
      "source": [
        "#Understanding the nature of cancellations based on distribution channels.\n",
        "pd.DataFrame(df_new.groupby('distribution_channel')['previous_cancellations'].sum().reset_index(name='No. of previous cancellations'))"
      ],
      "metadata": {
        "id": "fxoLT2u-qEbT"
      },
      "execution_count": null,
      "outputs": []
    },
    {
      "cell_type": "code",
      "source": [
        "#Understanding which distribution channels are benefecial for the business.\n",
        "pd.DataFrame(df_new.groupby('distribution_channel')['is_repeated_guest'].sum().reset_index(name='No. of repeated guests'))"
      ],
      "metadata": {
        "id": "O-BVNgsF2Cn1"
      },
      "execution_count": null,
      "outputs": []
    },
    {
      "cell_type": "code",
      "source": [
        "#Understanding how the adr is affected by the number of guests.\n",
        "pd.DataFrame(df_new.groupby('total_guests')['adr'].sum().reset_index(name='ADR'))"
      ],
      "metadata": {
        "id": "VRXeRD4h2cXq"
      },
      "execution_count": null,
      "outputs": []
    },
    {
      "cell_type": "code",
      "source": [
        "pd.DataFrame(df_new.groupby('total_guests')['is_repeated_guest'].sum().reset_index(name='No of repeated bookings'))"
      ],
      "metadata": {
        "id": "t2sNkRnd21Q5"
      },
      "execution_count": null,
      "outputs": []
    },
    {
      "cell_type": "code",
      "source": [
        "#Understanding which customer type are making most booking changes.\n",
        "pd.DataFrame(df_new.groupby('customer_type')['booking_changes'].sum().reset_index(name='Total Changes made'))"
      ],
      "metadata": {
        "id": "PaWxfCoE4KVi"
      },
      "execution_count": null,
      "outputs": []
    },
    {
      "cell_type": "code",
      "source": [
        "#Understanding nature of special requests made by different customer types.\n",
        "pd.DataFrame(df_new.groupby('customer_type')['total_of_special_requests'].sum().reset_index(name='total of special requests'))"
      ],
      "metadata": {
        "id": "FE6cuOcl7ZLM"
      },
      "execution_count": null,
      "outputs": []
    },
    {
      "cell_type": "code",
      "source": [
        "#Understanding nature of special requests made by different customer types.\n",
        "pd.DataFrame(df_new.groupby('children')['total_of_special_requests'].sum().reset_index(name='total of special requests'))"
      ],
      "metadata": {
        "id": "CcNahxZxlh_6"
      },
      "execution_count": null,
      "outputs": []
    },
    {
      "cell_type": "code",
      "source": [
        "#Understanding nature of special requests made by different customer types.\n",
        "pd.DataFrame(df_new.groupby('babies')['total_of_special_requests'].sum().reset_index(name='total of special requests'))"
      ],
      "metadata": {
        "id": "Xdt2XgJolrJk"
      },
      "execution_count": null,
      "outputs": []
    },
    {
      "cell_type": "code",
      "source": [
        "#Creating df copy grouped by hotel type to better understand business driving factors.\n",
        "hotel_type_city =  df_new[df_new['hotel']=='City Hotel'].reset_index()"
      ],
      "metadata": {
        "id": "4zBB1TPOH1YK"
      },
      "execution_count": null,
      "outputs": []
    },
    {
      "cell_type": "code",
      "source": [
        "hotel_type_resort = df_new[df_new['hotel']=='Resort Hotel'].reset_index()"
      ],
      "metadata": {
        "id": "bM3H7GJ1IOY4"
      },
      "execution_count": null,
      "outputs": []
    },
    {
      "cell_type": "code",
      "source": [
        "#Understanding total cancellations made and factors based on.\n",
        "total_cancellings = df_new['is_canceled'].sum()\n",
        "print(f'Total Cancellations : {total_cancellings}')\n",
        "no_of_cancellings_city_hotel = hotel_type_city['is_canceled'].sum()\n",
        "print(f'Total Cancellations in City Hotels : {no_of_cancellings_city_hotel}')\n",
        "no_of_cancellings_resort_hotel = hotel_type_resort['is_canceled'].sum()\n",
        "print(f'Total Cancellations in Resort Hotels : {no_of_cancellings_resort_hotel}')"
      ],
      "metadata": {
        "id": "L8dksYJf_5p4"
      },
      "execution_count": null,
      "outputs": []
    },
    {
      "cell_type": "markdown",
      "source": [
        "### What all manipulations have you done and insights you found?"
      ],
      "metadata": {
        "id": "MSa1f5Uengrz"
      }
    },
    {
      "cell_type": "markdown",
      "source": [
        "After the cleaning and wrangling of data, I found various insights and patterns governing the number of bookings made. We can get a clear view through visualization of the patterns, but deep diving through the dataset is required to examine the behavior of customers and business trends. I tried to understand the patterns of booking and cancellations made in city hotel type vs. resort hotel type. We also analyzed the Average Daily Rate of both types of hotel. Further we examined the patterns in no of bookings, no of cancellations ,days of waiting based on categorical variables like deposit type, type of customer, market segment, distribution type. We also analyzed the demand of parking spaces in different types of hotels and by different categories of customers. Further, we examined the meal preferences and business promulgation through different countries. We also saw, which segment of market shows tendency for re-booking so that we can target the right customers for business flourishment. By keenly observing these patterns, the stakeholders and business owners can drive better decision making in terms of market segmentation and facility offerings."
      ],
      "metadata": {
        "id": "LbyXE7I1olp8"
      }
    },
    {
      "cell_type": "markdown",
      "source": [
        "## ***4. Data Vizualization, Storytelling & Experimenting with charts : Understand the relationships between variables***"
      ],
      "metadata": {
        "id": "GF8Ens_Soomf"
      }
    },
    {
      "cell_type": "markdown",
      "source": [
        "#### Chart - 1 : Booking Rate City v/s Resort"
      ],
      "metadata": {
        "id": "0wOQAZs5pc--"
      }
    },
    {
      "cell_type": "code",
      "source": [
        "# Chart - 1 visualization code\n",
        "print(\"Booking Rate City v/s Resort\")\n",
        "#Plotting bar plot for percentage of booking in hotel\n",
        "hotel = df_new.groupby('hotel')\n",
        "d1 = pd.DataFrame((hotel.size()/df_new.shape[0])*100).reset_index().rename(columns = {0:'Booking %'}) #Calculating percentage\n",
        "plt.figure(figsize = (12,6))\n",
        "sns.barplot(x = d1['hotel'], y = d1['Booking %'] )\n",
        "plt.title('Booking Rate City v/s Resort',fontsize =20)\n",
        "plt.show()"
      ],
      "metadata": {
        "id": "7v_ESjsspbW7"
      },
      "execution_count": null,
      "outputs": []
    },
    {
      "cell_type": "markdown",
      "source": [
        "Bar Charts are a good way to represent categorical data with rectangular bars to give a steady comparison between the booking trends of both types of Hotels.\n",
        "Booking Rate is more in City Hotels (60%) as compared to Resort Hotels (40%)"
      ],
      "metadata": {
        "id": "XESiWehPqBRc"
      }
    },
    {
      "cell_type": "markdown",
      "source": [
        "#### Chart - 2 : Booking Cancellation Trends"
      ],
      "metadata": {
        "id": "KSlN3yHqYklG"
      }
    },
    {
      "cell_type": "code",
      "source": [
        "#Total Cancellations made\n",
        "plt.figure(figsize=(18,7))\n",
        "labels = ['Not canceled','Canceled', ]\n",
        "df_new['is_canceled'].value_counts().plot.pie(labels = labels ,autopct='%0.2f%%', shadow=True,fontsize=20)\n",
        "plt.title('Total Cancellation Percentage',fontsize = 20)\n",
        "plt.legend()"
      ],
      "metadata": {
        "id": "G_T_tFyE58yx"
      },
      "execution_count": null,
      "outputs": []
    },
    {
      "cell_type": "markdown",
      "source": [
        "###Chart-3 : Booking Cancellation Trends Hotel-Wise"
      ],
      "metadata": {
        "id": "tLOaSDTDI5C2"
      }
    },
    {
      "cell_type": "code",
      "source": [
        "# Booking Cancellation Trends Hotel-Wise\n",
        "\n",
        "hotel = pd.DataFrame(df_new.groupby('hotel')['hotel'].value_counts())\n",
        "hotel_count = hotel['hotel'].tolist()\n",
        "city_cancellation_percentage = (no_of_cancellings_city_hotel/hotel_count[0])*100\n",
        "resort_cancellation_percentage = (no_of_cancellings_city_hotel/hotel_count[1])*100\n",
        "cancelations_consolidated = [city_cancellation_percentage,resort_cancellation_percentage]\n",
        "label =['City Cancellations','Resort Cancellations']\n",
        "plt.figure(figsize=(18,7))\n",
        "plt.pie(cancelations_consolidated,labels=label,shadow=True,autopct='%0.2f%%',textprops={'fontsize': 20})\n",
        "plt.title('Booking Cancellations City v/s Resort',fontsize =20)\n",
        "plt.show()"
      ],
      "metadata": {
        "id": "R4YgtaqtYklH"
      },
      "execution_count": null,
      "outputs": []
    },
    {
      "cell_type": "markdown",
      "source": [
        "A pie chart is a circular statistical graphic, which is divided into slices to illustrate numerical proportion.Approximately 27.5% bookings are cancelled out of which there are more cancellations observed in Resort Hotels (60%) as compared to City Hotels(40%).\n"
      ],
      "metadata": {
        "id": "5aaW0BYyYklI"
      }
    },
    {
      "cell_type": "markdown",
      "source": [
        "#### Chart - 4 : Booking Trends Month-Wise "
      ],
      "metadata": {
        "id": "EM7whBJCYoAo"
      }
    },
    {
      "cell_type": "code",
      "source": [
        "# Chart - 3 visualization code\n",
        "#Understanding nature of bookings month-wise\n",
        "print(df_new['arrival_date_month'].value_counts())\n",
        "\n",
        "#Plotting seaborn bar chart to visualize no of bookings hotel wise as well as month wise.\n",
        "plt.figure(figsize=(12,6))\n",
        "graph=sns.countplot(data= df_new, x='arrival_date_month', hue = 'hotel',order = ['January', 'February', 'March', 'April', 'May', 'June', 'July',\n",
        "          'August', 'September', 'October', 'November', 'December'],linewidth=1,\n",
        "    edgecolor='black')\n",
        "plt.title('No of Bookings Month-wise',fontsize=20)\n",
        "plt.xlabel('Months',fontsize=15)\n",
        "plt.ylabel('No of Reservations',fontsize=15)\n",
        "plt.xticks(rotation=45)"
      ],
      "metadata": {
        "id": "t6GMdE67YoAp"
      },
      "execution_count": null,
      "outputs": []
    },
    {
      "cell_type": "markdown",
      "source": [
        "A double bar graph is a graphical display of information using two bars besides each other at various heights. The bars can be arranged vertically or horizontally. We can use a double bar graph to compare two data groups.\n",
        "Maximum bookings are made in the months of May , July and  August.\n",
        "Minimum bookings are made in January , February , November and December .\n",
        "Marketing strategies can be improved to increase booking rates in these months \n"
      ],
      "metadata": {
        "id": "5dBItgRVYoAp"
      }
    },
    {
      "cell_type": "markdown",
      "source": [
        "#### Chart - 5 : Booking Trends Year-Wise"
      ],
      "metadata": {
        "id": "4Of9eVA-YrdM"
      }
    },
    {
      "cell_type": "code",
      "source": [
        "# Chart - 4 visualization code\n",
        "# Understanding the impact on Hotel business Year-Wise \n",
        "print(df_new['arrival_date_year'].value_counts())\n",
        "\n",
        "#Plotting seaborn bar chart to visualize no of bookings hotel wise as well as month wise.\n",
        "plt.figure(figsize=(12,8))\n",
        "graph=sns.countplot(data= df_new, x='arrival_date_year', hue = 'hotel',linewidth=1,edgecolor='black')\n",
        "plt.title('No of Bookings Year-wise',fontsize = 20)\n",
        "plt.xlabel('Year',fontsize = 15)\n",
        "plt.ylabel('No of Reservations', fontsize = 15)\n",
        "plt.xticks(rotation=45)"
      ],
      "metadata": {
        "id": "irlUoxc8YrdO"
      },
      "execution_count": null,
      "outputs": []
    },
    {
      "cell_type": "markdown",
      "source": [
        "Double Bar Chart to understand the booking trends in both hotels year-wise.Maximum bookings were made in the year 2016 in both types of hotels, followed by year 2017 and least bookinngs were made in 2015.\n"
      ],
      "metadata": {
        "id": "aJRCwT6DYrdO"
      }
    },
    {
      "cell_type": "markdown",
      "source": [
        "#### Chart - 6 : Meal Type Preference "
      ],
      "metadata": {
        "id": "bamQiAODYuh1"
      }
    },
    {
      "cell_type": "code",
      "source": [
        "# Chart - 5 visualization code\n",
        "# Understanding the meal type preference among customers.\n",
        "meal=df_new['meal'].value_counts()\n",
        "print(meal)\n",
        "meal_labels= ['BB','HB','SC','FB', 'Undefined']\n",
        "\n",
        "# Plotting pie-chart \n",
        "plt.figure(figsize=(8,8))\n",
        "plt.pie(meal, labels=meal_labels,  autopct='%0.0f%%',startangle=30,wedgeprops = { 'linewidth' : 1, 'edgecolor' : 'gray' }) \n",
        "plt.title('Meal Types', fontsize = 20)\n",
        "plt.legend(meal_labels)\n",
        "plt.show()"
      ],
      "metadata": {
        "id": "TIJwrbroYuh3"
      },
      "execution_count": null,
      "outputs": []
    },
    {
      "cell_type": "markdown",
      "source": [
        "A pie chart helps organize and show data as a percentage of a whole.\n",
        "From the chart we derive that most customers prefer BB Meal followed by HB and SC meal-type.Pnly 0.4% customers opt for FB meals. FB meals can be promoted by providing complimentary dessert.\n"
      ],
      "metadata": {
        "id": "dcxuIMRPYuh3"
      }
    },
    {
      "cell_type": "markdown",
      "source": [
        "#### Chart - 7 : Top 10 Countries for Bookings"
      ],
      "metadata": {
        "id": "OH-pJp9IphqM"
      }
    },
    {
      "cell_type": "code",
      "source": [
        "# Chart - 6 visualization code\n",
        "#Understanding maximum business is happening through which country customers\n",
        "country_wise_bookings = df_new[df_new['is_canceled'] == 0]['country'].value_counts().reset_index()\n",
        "country_wise_bookings.columns = ['Country','No_of_bookings']\n",
        "top_10_country_bookings = country_wise_bookings.head(10)\n",
        "top_10_country_bookings\n",
        "\n",
        "#Plotting seaborn bar chart to visualize the trend of bookings vs country\n",
        "plt.figure(figsize=(15,8))\n",
        "sns.barplot(x=top_10_country_bookings['Country'],y=top_10_country_bookings['No_of_bookings'])\n",
        "plt.title('Top 10 Countries for Bookings', fontsize = 20)\n",
        "plt.legend(top_10_country_bookings['Country'])\n",
        "plt.xticks(rotation=45)\n",
        "plt.show()"
      ],
      "metadata": {
        "id": "kuRf4wtuphqN"
      },
      "execution_count": null,
      "outputs": []
    },
    {
      "cell_type": "markdown",
      "source": [
        "Top countries contributing in the hotel business are PRT,GBR,FRA,ESP,DEU,IRL,ITA,BEL,NLD,USA in the same order,PRT being the highest accounting for 17500 bookings.\n"
      ],
      "metadata": {
        "id": "loh7H2nzphqN"
      }
    },
    {
      "cell_type": "markdown",
      "source": [
        "#### Chart - 8 : Total Stay Hotel-wise"
      ],
      "metadata": {
        "id": "PIIx-8_IphqN"
      }
    },
    {
      "cell_type": "code",
      "source": [
        "# Chart - 8 visualization code\n",
        "# Understanding the stay trends in both types of hotels.\n",
        "l1 = df_new['total_stay'].unique()\n",
        "l2=l1.tolist()\n",
        "ax = df_new.groupby(['hotel'])['total_stay'].mean().plot.bar(color=['#FFA500','blue'],width =0.4,linewidth=1,\n",
        "    edgecolor='black',\n",
        "    figsize = (12,8),\n",
        "    fontsize = 10,)\n",
        "ax.set_title('Total Stay Hotel-wise',fontsize=20)\n",
        "ax.set_xlabel('Hotel Type',fontsize=15)\n",
        "ax.set_ylabel('Total Stay(in no of days)',fontsize=15)"
      ],
      "metadata": {
        "id": "lqAIGUfyphqO"
      },
      "execution_count": null,
      "outputs": []
    },
    {
      "cell_type": "markdown",
      "source": [
        "Total stay is more in Resort Hotels as compared to city hotels.On an average,customers prefer to stay for 4 days in Resort Hotels and 3 days in City hotels."
      ],
      "metadata": {
        "id": "iv6ro40sphqO"
      }
    },
    {
      "cell_type": "markdown",
      "source": [
        "###Chart - 9 : Average Daily Rate Hotel-Wise"
      ],
      "metadata": {
        "id": "O3-GAs6fGL4u"
      }
    },
    {
      "cell_type": "code",
      "source": [
        "#Understanding the Average Daily Rates of City Hotel vs Resort Hotel.\n",
        "ax = df_new.groupby(['hotel'])['adr'].mean().plot.bar(color=['#FFA500','blue'],width =0.4,linewidth=1,\n",
        "    edgecolor='black',\n",
        "    figsize = (12,8),\n",
        "    fontsize = 10,)\n",
        "ax.set_title('Average Daily Rate Hotel-wise',fontsize = 20)\n",
        "ax.set_xlabel('Hotel Type',fontsize=15)\n",
        "ax.set_ylabel('ADR ',fontsize=15)\n",
        "plt.xticks(rotation =0)"
      ],
      "metadata": {
        "id": "aFUV3oGZGO2H"
      },
      "execution_count": null,
      "outputs": []
    },
    {
      "cell_type": "markdown",
      "source": [
        "ADR for City Hotels is 110.98 whereas for Resort Hotels it is 99.02% . Daily Rates are high for City hotels in comparison to Resort Hotels.\n"
      ],
      "metadata": {
        "id": "PzAaJ6hYPhGH"
      }
    },
    {
      "cell_type": "markdown",
      "source": [
        "###Chart - 10 : Booking Rate v/s Type of Customer"
      ],
      "metadata": {
        "id": "C7q-0r2sPodk"
      }
    },
    {
      "cell_type": "code",
      "source": [
        "#Booking Rate v/s Type of Customers.\n",
        "\n",
        "total_stay_customer_wise=df_new.groupby('customer_type')['total_stay'].sum()\n",
        "print(total_stay_customer_wise)\n",
        "label= ['Contract','Group','Transient','Transient-Party']\n",
        "\n",
        "plt.figure(figsize=(8,8))\n",
        "plt.pie(total_stay_customer_wise, labels=label,  autopct='%0.0f%%',startangle=45,wedgeprops = { 'linewidth' : 1, 'edgecolor' : 'gray' }) \n",
        "plt.title('Booking Rate v/s Type of Customer', fontsize = 20)\n",
        "plt.legend(label)\n",
        "plt.show()\n"
      ],
      "metadata": {
        "id": "snoXQtxknl-v"
      },
      "execution_count": null,
      "outputs": []
    },
    {
      "cell_type": "markdown",
      "source": [
        "Transient : 81 %\n",
        "Transient-Party : 12%\n",
        "Contract : 6%\n",
        "Group : 1%\n",
        "Maximum bookings made by transient customers and minimum by Group-Type Customers.\n"
      ],
      "metadata": {
        "id": "PUg_1ee-PyIP"
      }
    },
    {
      "cell_type": "markdown",
      "source": [
        "#### Chart - 11 : Weekday v/s Weekend Stay Trends"
      ],
      "metadata": {
        "id": "BZR9WyysphqO"
      }
    },
    {
      "cell_type": "code",
      "source": [
        "# Chart - 8 visualization code\n",
        "#Observing weekday vs weekend stay patterns to understand whether more bookings are made in weekdays or weekends.\n",
        "count_of_weekday_stays =df_new['stays_in_week_nights'].sum()\n",
        "count_of_weekend_stays =df_new['stays_in_weekend_nights'].sum()\n",
        "total_stay_in_hotels = df_new['total_stay'].sum()\n",
        "print('Total stay in weekdays :', count_of_weekday_stays)\n",
        "print('Total stay in weekends :', count_of_weekend_stays)\n",
        "print('Total stay : ',total_stay_in_hotels)\n",
        "\n",
        "#Calculating weekday and weekend stay percentages.\n",
        "weekday_stay_percent = (count_of_weekday_stays/total_stay_in_hotels)*100\n",
        "weekend_stay_percent = (count_of_weekend_stays/total_stay_in_hotels)*100\n",
        "print('Percentage of weekday stays :',round(weekday_stay_percent,2))\n",
        "print('Percentage of weekend stays :',round(weekend_stay_percent,2))\n",
        "\n",
        "#Plotting weekend vs weekday stay data \n",
        "stay_data = [weekday_stay_percent,weekend_stay_percent]\n",
        "label =['Weekday Stays','Weekend Stays']\n",
        "plt.figure(figsize=(18,7))\n",
        "plt.pie(stay_data,labels=label,explode=[0.05,0.05],shadow=True,autopct='%0.2f%%',textprops={'fontsize': 20})\n",
        "plt.title('Weekday v/s Weekend Stays',fontsize = 20)\n",
        "plt.show()\n"
      ],
      "metadata": {
        "id": "TdPTWpAVphqO"
      },
      "execution_count": null,
      "outputs": []
    },
    {
      "cell_type": "markdown",
      "source": [
        "Customers prefer weekday stay to weekend stay. Almost 72% customers book during weekdays which may be due to corporate bookings ,other 28% prefer weekend stays.\n"
      ],
      "metadata": {
        "id": "Ob8u6rCTphqO"
      }
    },
    {
      "cell_type": "markdown",
      "source": [
        "#### Chart - 12 : Customer Distribution Hotel-wise"
      ],
      "metadata": {
        "id": "YJ55k-q6phqO"
      }
    },
    {
      "cell_type": "code",
      "source": [
        "# Chart - 9 visualization code\n",
        "#Customer Distribution based on hotel type\n",
        "df = df_new.groupby(['hotel','customer_type']).size()\n",
        "print(df)\n",
        "plt.figure(figsize=(12,6))\n",
        "graph=sns.countplot(data= df_new, x='customer_type', hue = 'hotel',linewidth=1,edgecolor='black')\n",
        "plt.tight_layout()\n",
        "plt.title('Customer Distribution Hotel-wise',fontsize = 20)\n",
        "plt.xlabel('Customer Type',fontsize =15)\n",
        "plt.ylabel('No of customers', fontsize = 15)\n",
        "plt.show()"
      ],
      "metadata": {
        "id": "B2aS4O1ophqO"
      },
      "execution_count": null,
      "outputs": []
    },
    {
      "cell_type": "markdown",
      "source": [
        "Maximum bookings are made by Transient customers in both types of hotels . Minimum bookings are made by Group customers. Hence, to attract group customers as they will result in better daily rates , hotels can provide redeemable points/ discounts to families or group bookings .\n"
      ],
      "metadata": {
        "id": "TVxDimi2phqP"
      }
    },
    {
      "cell_type": "markdown",
      "source": [
        "###Chart-13 : Market Segment Analysis Hotel-wise"
      ],
      "metadata": {
        "id": "RL6oQfwfRGoL"
      }
    },
    {
      "cell_type": "code",
      "source": [
        "#Market Segment Analysis Hotel wise.\n",
        "df = df_new.groupby(['hotel','market_segment']).size()\n",
        "print(df)\n",
        "plt.figure(figsize=(12,8))\n",
        "graph=sns.countplot(data= df_new, x='market_segment', hue = 'hotel',linewidth=1,edgecolor='black')\n",
        "plt.tight_layout()\n",
        "plt.title('Market Segment Analysis Hotel-wise', fontsize = 20)\n",
        "plt.xlabel('Market Segment',fontsize = 15)\n",
        "plt.ylabel('No of bookings',fontsize = 15)\n",
        "plt.show()"
      ],
      "metadata": {
        "id": "I053uWJ4vMT8"
      },
      "execution_count": null,
      "outputs": []
    },
    {
      "cell_type": "markdown",
      "source": [
        "Maximum bookings are generated by Online TA and minimum through Aviation sector. Marketing strategies to promote business in declining segments is suggested.\n"
      ],
      "metadata": {
        "id": "koPuB2VQRNzu"
      }
    },
    {
      "cell_type": "markdown",
      "source": [
        "#### Chart - 14 : Room Type Preference Hotel-Wise"
      ],
      "metadata": {
        "id": "U2RJ9gkRphqQ"
      }
    },
    {
      "cell_type": "code",
      "source": [
        "# Chart - 10 visualization code\n",
        "#Room Type Preferences in Both types of Hotels\n",
        "df1 = df_new.groupby(['hotel','reserved_room_type']).size()\n",
        "print(df1)\n",
        "\n",
        "ax = df1.unstack(level=0).plot(kind='bar', subplots=True, rot=0, figsize=(10, 5), layout=(1, 2))\n",
        "plt.tight_layout()\n",
        "plt.title('Room Type Preference Hotel-Wise')\n",
        "plt.xlabel('Reserved Room Type')\n",
        "plt.ylabel('No of guests')\n",
        "plt.show()"
      ],
      "metadata": {
        "id": "GM7a4YP4phqQ"
      },
      "execution_count": null,
      "outputs": []
    },
    {
      "cell_type": "markdown",
      "source": [
        "Subplotting is a technique for creating multiple plots that live side-by-side in one overall figure. We can use the subplots method to create a figure with multiple subplots. subplots takes two arguments. The first one controls the number of rows, the second one the number of columns.\n",
        "City Hotel : (Most Preferred : A,D, Least Preferred : G, Negligible Bookings : C,H ,L,P )\n",
        "Resort Hotel : (Most Preferred : A,D,E, Least Preferred : H, Negligible Bookings : B,L,P )\n",
        "The Hotels should inspect why customers are not preferring some room types.\n"
      ],
      "metadata": {
        "id": "8agQvks0phqQ"
      }
    },
    {
      "cell_type": "markdown",
      "source": [
        "###Chart-15 : Parking Space Preference Hotel-Wise"
      ],
      "metadata": {
        "id": "idSZsNVWCH5w"
      }
    },
    {
      "cell_type": "code",
      "source": [
        "#Parking Preference Hotel-Wise\n",
        "df1 = df_new.groupby(['hotel','required_car_parking_spaces']).size()\n",
        "print(df1)\n",
        "\n",
        "ax = df1.unstack(level=0).plot(kind='bar', subplots=True, rot=0, figsize=(10, 5), layout=(1, 2))\n",
        "plt.tight_layout()\n",
        "plt.title('Parking Space Preference Hotel-Wise')\n",
        "plt.xlabel('Parking Space ID')\n",
        "plt.ylabel('No of parkings')\n",
        "plt.show()"
      ],
      "metadata": {
        "id": "g7Bi1L-KBVbw"
      },
      "execution_count": null,
      "outputs": []
    },
    {
      "cell_type": "markdown",
      "source": [
        "Parking spaces are not usually required by customers in both hotels.\n",
        "More customers prefer parking spaces in Resort Hotels as compared to City Hotels.\n",
        "Mostly customers prefer 1 or 2 parking spaces.\n"
      ],
      "metadata": {
        "id": "hDhSNpMqSBXd"
      }
    },
    {
      "cell_type": "markdown",
      "source": [
        "###Chart- 16 : No of children v/s Special Requests"
      ],
      "metadata": {
        "id": "8OImDGT6zdED"
      }
    },
    {
      "cell_type": "code",
      "source": [
        "# Understanding the relationship between Children and Total Special Requests made\n",
        "\n",
        "plt.figure(figsize=(8,5))\n",
        "ax = df_new.groupby(['children'])['total_of_special_requests'].mean().plot.bar()\n",
        "plt.tight_layout()\n",
        "plt.title('No of children v/s Special Requests', fontsize = 20)\n",
        "plt.xlabel('No of children',fontsize = 15)\n",
        "plt.ylabel('Avg No of Special Requests',fontsize = 15)\n",
        "plt.show()"
      ],
      "metadata": {
        "id": "O2L_CHynp-W_"
      },
      "execution_count": null,
      "outputs": []
    },
    {
      "cell_type": "markdown",
      "source": [
        "###Chart-17 : No of babies v/s Special Requests"
      ],
      "metadata": {
        "id": "GU5EQYw8zsB_"
      }
    },
    {
      "cell_type": "code",
      "source": [
        "# Understanding the relationship between no of babies and Total Special Requests made\n",
        "plt.figure(figsize=(8,5))\n",
        "ax = df_new.groupby(['babies'])['total_of_special_requests'].mean().plot.bar()\n",
        "plt.tight_layout()\n",
        "plt.title('No of babies v/s Special Requests', fontsize = 20)\n",
        "plt.xlabel('No of babies',fontsize = 15)\n",
        "plt.ylabel('Avg No of Special Requests',fontsize = 15)\n",
        "plt.show()"
      ],
      "metadata": {
        "id": "Je0u9GAUztLM"
      },
      "execution_count": null,
      "outputs": []
    },
    {
      "cell_type": "markdown",
      "source": [
        "###Chart-18 : Repeated Bookings Hotel-Wise"
      ],
      "metadata": {
        "id": "lsJefJWQ7gHp"
      }
    },
    {
      "cell_type": "code",
      "source": [
        "#Understanding the trends of repeated bookings hotel-wise.\n",
        "repeated_guests_df=df_new[df_new['is_repeated_guest']==1] \n",
        "repeated_guests_df=repeated_guests_df.groupby(['hotel']).size().reset_index().rename(columns={0:'counts'})  \n",
        "#set plotsize and call the barplot function\n",
        "plt.figure(figsize=(12,8))\n",
        "sns.barplot(x='hotel',y='counts',hue=\"hotel\",data= repeated_guests_df)\n",
        "plt.title('Repeated Bookings Hotel-Wise',fontsize = 20)\n",
        "plt.xlabel('Hotel Type')\n",
        "plt.ylabel('No of repeated bookings')\n",
        "plt.show()"
      ],
      "metadata": {
        "id": "0U_2fowi7jAE"
      },
      "execution_count": null,
      "outputs": []
    },
    {
      "cell_type": "markdown",
      "source": [
        " No of repeated guest are almost same in both types of hotels. \n"
      ],
      "metadata": {
        "id": "c_mfXiPASStm"
      }
    },
    {
      "cell_type": "markdown",
      "source": [
        "#### Chart - 19 : Bookings made through Agents"
      ],
      "metadata": {
        "id": "x-EpHcCOp1ci"
      }
    },
    {
      "cell_type": "code",
      "source": [
        "# Chart - 17 visualization code\n",
        "#Understanding which agent made the maximum bookings.\n",
        "\n",
        "bookings_made_through_agents = df_new.groupby(['agent'])['agent'].agg({'count'}).reset_index().rename(columns={'count':'No_of_Bookings'}).sort_values(by='No_of_Bookings',ascending=False)\n",
        "top_10_bookings=bookings_made_through_agents[:10]\n",
        "print(top_10_bookings)\n",
        "\n",
        "plt.figure(figsize=(12,8))\n",
        "sns.barplot(x=top_10_bookings['agent'],y=top_10_bookings['No_of_Bookings'])\n",
        "plt.title('Bookings made through Agents',fontsize = 20)\n",
        "plt.xlabel('Agent ID', fontsize = 15)\n",
        "plt.ylabel('No og Bookings',fontsize = 15)\n",
        "plt.show()"
      ],
      "metadata": {
        "id": "mAQTIvtqp1cj"
      },
      "execution_count": null,
      "outputs": []
    },
    {
      "cell_type": "markdown",
      "source": [
        "Booking rates are improved when bookings are made through agents.\n",
        "Agent 9 has made maximum number of bookings. Agent 6 has made minimum bookings.\n"
      ],
      "metadata": {
        "id": "-vsMzt_np1ck"
      }
    },
    {
      "cell_type": "markdown",
      "source": [
        "#### Chart - 20 : Market-Segment Booking Trend Analysis"
      ],
      "metadata": {
        "id": "n3dbpmDWp1ck"
      }
    },
    {
      "cell_type": "code",
      "source": [
        "# Chart - 18 visualization code\n",
        "#Understanding booking trends along different market segments.\n",
        "plt.figure(figsize=(12,8))\n",
        "plt.plot(df_new['market_segment'].value_counts())\n",
        "plt.title('Market-Segment Booking Trend Analysis',fontsize = 20)\n",
        "plt.xlabel('Market Segment')\n",
        "plt.ylabel('No of bookings')\n",
        "plt.show()"
      ],
      "metadata": {
        "id": "bwevp1tKp1ck"
      },
      "execution_count": null,
      "outputs": []
    },
    {
      "cell_type": "markdown",
      "source": [
        "Maximum bookings are generated by Online TA and minimum through Aviation sector. Marketing strategies to promote business in declining segments is suggested.\n"
      ],
      "metadata": {
        "id": "_-8qe-zgS4bC"
      }
    },
    {
      "cell_type": "markdown",
      "source": [
        "###Chart-21 : Customer-Type Booking Trend Analysis"
      ],
      "metadata": {
        "id": "_7eGCUR0TANX"
      }
    },
    {
      "cell_type": "code",
      "source": [
        "#Customer Booking Trend Analysis\n",
        "plt.figure(figsize=(12,8))\n",
        "plt.plot(df_new['customer_type'].value_counts())\n",
        "plt.title('Customer Booking Trend Analysis',fontsize = 20)\n",
        "plt.xlabel('Customer Type')\n",
        "plt.ylabel('No of bookings')\n",
        "plt.show()"
      ],
      "metadata": {
        "id": "o2pmg0GL2sEv"
      },
      "execution_count": null,
      "outputs": []
    },
    {
      "cell_type": "markdown",
      "source": [
        "Maximum bookings are made by Transient customers in both types of hotels . Minimum bookings are made by Group customers. Hence, to attract group customers as they will result in better daily rates , hotels can provide redeemable points/ discounts to families or group bookings \n"
      ],
      "metadata": {
        "id": "m2xqNkiQp1ck"
      }
    },
    {
      "cell_type": "code",
      "source": [
        "type(df_new['market_segment'])"
      ],
      "metadata": {
        "id": "wefuVxYMb6VK"
      },
      "execution_count": null,
      "outputs": []
    },
    {
      "cell_type": "markdown",
      "source": [
        "###Chart-22 : Market Segment v/s ADR Analysis"
      ],
      "metadata": {
        "id": "kem_DZyKT5N7"
      }
    },
    {
      "cell_type": "code",
      "source": [
        "plt.figure(figsize=(6,6))\n",
        "df_new.groupby(['market_segment'])['adr'].mean().plot(kind=\"pie\",autopct='%0.0f%%')\n",
        "plt.xticks(rotation=45)\n",
        "plt.title('Market Segment v/s ADR Analysis')\n",
        "plt.xlabel('Market Segment')\n",
        "plt.ylabel('Average Daily Rate')\n",
        "plt.show()"
      ],
      "metadata": {
        "id": "DZkeofejbF7Z"
      },
      "execution_count": null,
      "outputs": []
    },
    {
      "cell_type": "markdown",
      "source": [
        "Online TA, Direct and Aviation market segments contribute to the highest ADR and Groups,Corporate and  complementary has minimum daily rates\n"
      ],
      "metadata": {
        "id": "KOzSagiWZFhw"
      }
    },
    {
      "cell_type": "markdown",
      "source": [
        "#### Chart - 23 : Market Segment Analysis Hotel-Wise"
      ],
      "metadata": {
        "id": "Ag9LCva-p1cl"
      }
    },
    {
      "cell_type": "code",
      "source": [
        "# Chart - 13 visualization code\n",
        "#Understanding booking trends along different market segments hotel-wise.\n",
        "df = df_new.groupby(['hotel','market_segment']).size()\n",
        "df\n",
        "\n",
        "plt.figure(figsize=(12,8))\n",
        "ax = df.unstack(level=0).plot(kind='bar', rot=0, figsize=(10, 5), layout=(1, 2))\n",
        "plt.xticks(rotation=45)\n",
        "plt.title('Market Segment Analysis Hotel-Wise')\n",
        "plt.xlabel('Market Segment')\n",
        "plt.ylabel('No of Bookings')\n",
        "plt.show()"
      ],
      "metadata": {
        "id": "EUfxeq9-p1cl"
      },
      "execution_count": null,
      "outputs": []
    },
    {
      "cell_type": "markdown",
      "source": [
        "Maximum bookings are generated by Online TA and minimum through Aviation sector. Marketing strategies to promote business in declining segments is suggested.\n"
      ],
      "metadata": {
        "id": "V22bRsFWp1cl"
      }
    },
    {
      "cell_type": "markdown",
      "source": [
        "#### Chart - 24 : Cancellation Rate Vs market_segment"
      ],
      "metadata": {
        "id": "I68ZkDHmmZ-7"
      }
    },
    {
      "cell_type": "code",
      "source": [
        "#Cancellation rate in each market segment\n",
        "market_segment_df=df_new[df_new['is_canceled']==1] \n",
        "market_segment_df=market_segment_df.groupby(['market_segment','hotel']).size().reset_index().rename(columns={0:'counts'})   # group by\n",
        "#set plotsize and call the barplot function\n",
        "plt.figure(figsize=(12,6))\n",
        "sns.barplot(x='market_segment',y='counts',hue=\"hotel\",data= market_segment_df)\n",
        "# set labels\n",
        "plt.xlabel('market_segment')\n",
        "plt.ylabel('Counts')\n",
        "plt.title('Cancellation Rate Vs market_segment')"
      ],
      "metadata": {
        "id": "_BrYqxJbmWbB"
      },
      "execution_count": null,
      "outputs": []
    },
    {
      "cell_type": "markdown",
      "source": [
        "Maximum cancellations are made through Online TA /TO ( Travelling Allowance)market segment followed by Direct . Hotels can provide coupons and vouchers to these customers to minimize cancellations.\n"
      ],
      "metadata": {
        "id": "aWLKazhucfzf"
      }
    },
    {
      "cell_type": "markdown",
      "source": [
        "###Chart-25 : Percentage of repeated guests"
      ],
      "metadata": {
        "id": "JnFWVeAfnVin"
      }
    },
    {
      "cell_type": "code",
      "source": [
        "#plot a pie chart to see the percentage of repeated guests\n",
        "label=['New Guests','Repeated Guests']\n",
        "df_new['is_repeated_guest'].value_counts().plot.pie(labels=label,autopct='%1.1f%%',figsize=(12,8),fontsize=20)\n",
        "plt.title(\" Percentage of repeated guests\",fontsize = 20 )\n",
        "plt.legend(label)\n",
        "plt.show()"
      ],
      "metadata": {
        "id": "bZPhuTRwnD1V"
      },
      "execution_count": null,
      "outputs": []
    },
    {
      "cell_type": "markdown",
      "source": [
        "Approximately 4% of customers have re booked the hotel ,96% are new guests which is an indicative of unsatisfactory stay experience. Hotels should prioritize stay experience of the guests. "
      ],
      "metadata": {
        "id": "2RiOgn9seFjW"
      }
    },
    {
      "cell_type": "markdown",
      "source": [
        "###Chart-26 : Cancellation Rate Vs deposit"
      ],
      "metadata": {
        "id": "qGLZqwV3AtDY"
      }
    },
    {
      "cell_type": "code",
      "source": [
        "#Understanding the relationship between Deposit Type and Booking Cancellation\n",
        "df=df_new[df_new['is_canceled']==1] \n",
        "df=df.groupby(['deposit_type','hotel']).size().reset_index().rename(columns={0:'counts'})   # group by\n",
        "plt.figure(figsize=(12,8))\n",
        "sns.barplot(x='deposit_type',y='counts',hue=\"hotel\",data= df)\n",
        "# set labels\n",
        "plt.xlabel('deposit_type',fontsize=15)\n",
        "plt.ylabel('No of cancellations',fontsize=15)\n",
        "plt.title('Cancellation Rate Vs deposit',fontsize=20)"
      ],
      "metadata": {
        "id": "oKJmPJaKAUwE"
      },
      "execution_count": null,
      "outputs": []
    },
    {
      "cell_type": "markdown",
      "source": [
        "#### Chart - 27 - Correlation Heatmap"
      ],
      "metadata": {
        "id": "NC_X3p0fY2L0"
      }
    },
    {
      "cell_type": "code",
      "source": [
        "# Correlation Heatmap visualization code\n",
        "hotel_booking_df = df_new[['hotel','total_stay','lead_time','arrival_date_month','total_guests','meal','market_segment','distribution_channel',\n",
        "                           'is_repeated_guest','previous_cancellations', 'reserved_room_type','assigned_room_type', \n",
        "                           'booking_changes', 'deposit_type', 'agent','company', 'customer_type', 'adr',\n",
        "                          'required_car_parking_spaces', 'total_of_special_requests']]\n",
        "corr_df = hotel_booking_df.corr()\n",
        "corr_df                     "
      ],
      "metadata": {
        "id": "xyC9zolEZNRQ"
      },
      "execution_count": null,
      "outputs": []
    },
    {
      "cell_type": "code",
      "source": [
        "plt.figure(figsize=(15,8))\n",
        "sns.heatmap(corr_df,vmin=-1, cmap='coolwarm', annot=True)"
      ],
      "metadata": {
        "id": "uLtOaNNsFBa_"
      },
      "execution_count": null,
      "outputs": []
    },
    {
      "cell_type": "markdown",
      "source": [
        "\n",
        "\n",
        "*   Positive Correlation :totalstay-leadtime, totalguest-adr , agent-company\n",
        "*   Negative Correlation : is_repeated_guest-company, total_stay-is_repeated_guest\n",
        "\n",
        "\n",
        "\n"
      ],
      "metadata": {
        "id": "DVPuT8LYZNRQ"
      }
    },
    {
      "cell_type": "markdown",
      "source": [
        "#### Chart - 28 : Pair Plot "
      ],
      "metadata": {
        "id": "q29F0dvdveiT"
      }
    },
    {
      "cell_type": "code",
      "source": [
        "# Pair Plot visualization code\n",
        "#pair_plot_df = df_new[['hotel','total_stay','total_guests','meal','market_segment',\n",
        "                           #'is_repeated_guest', 'reserved_room_type','assigned_room_type', \n",
        "                           # 'company', 'customer_type', 'adr']]\n",
        "sns.pairplot(df_new,vars =['total_stay','lead_time','is_repeated_guest','previous_cancellations','total_guests','adr'],hue ='hotel',kind='reg')\n",
        "# to show\n",
        "plt.figure(figsize=(8,6))\n",
        "plt.show()"
      ],
      "metadata": {
        "id": "o58-TEIhveiU"
      },
      "execution_count": null,
      "outputs": []
    },
    {
      "cell_type": "markdown",
      "source": [
        "## **5. Solution to Business Objective**"
      ],
      "metadata": {
        "id": "JcMwzZxoAimU"
      }
    },
    {
      "cell_type": "markdown",
      "source": [
        "#### What do you suggest the client to achieve Business Objective ? \n",
        "Explain Briefly."
      ],
      "metadata": {
        "id": "8G2x9gOozGDZ"
      }
    },
    {
      "cell_type": "markdown",
      "source": [
        "According to the analysis done above, following are the suggestions for the client in order to achieve business objective :\n",
        "*   More cancellations are occurring in City hotels, so need to put focus in retaining its customers.\n",
        "*   Deposit type has no relation with cancellation rates.\n",
        "*   Transient and contract type customers are booking for longer durations hence contributing more to the adr, hence client should try to retain these customers \n",
        "*   Group type customers are making minimum bookings hence these customers should be targeted by providing better offers and discounts. \n",
        "*  Car parking spaces are generally not required so less cost drainage on parking space maintenance .Customers ,if any ,generally opt for 1 or 2 parking spaces.\n",
        "*   Room type G in City Hotel and Room type H in Resort Hotel need better maintenance as least bookings are made in these rooms.\n",
        "*   BB: Bed & Breakfast. \n",
        "HB: Half Board (Breakfast and Dinner normally) \n",
        "FB: Full Board (Breakfast, Lunch and Dinner) \n",
        "SC: Self Catering(No meals are included)\n",
        "Mostly customers prefer BB type meal. Almost the same proportion opts for HB and SC and only very few opt for FB. More customers can be invited to opt for FB meal booking by providing complementary dessert or discount.\n",
        "*   Maximum bookings hence maximum business is getting generation through Online TA/TO, Direct and Group market segments .Hence market segment to be targeted should be aviation, complementary and corporate. There segments can be attracted by providing vouchers, discount for mass booking.\n",
        "*   No of cancellations are maximum in online TA and Corporates. So measures can be taken to retain these customers.\n",
        "*  No of repeated guests are least from Aviation sector, hence these customers can be given redeemable points for next bookings in order to retain .\n",
        "*   Maximum daily rates are for no of guests = 2  \n",
        "Individual booking customers tend to repeat their booking. Groups of 3-4 people do not repeat bookings , so people who book as a family or group can be provided redeemable points or vouchers.\n",
        "*  Booking rates are least in the month of Jan, Feb, Nov, Dec. Hence marketing team should focus more on bookings in these months.\n",
        "\n",
        "\n",
        "\n",
        "\n",
        "\n",
        "\n",
        "\n",
        "\n",
        "\n",
        "\n"
      ],
      "metadata": {
        "id": "pASKb0qOza21"
      }
    },
    {
      "cell_type": "markdown",
      "source": [
        "# **Conclusion**"
      ],
      "metadata": {
        "id": "gCX9965dhzqZ"
      }
    },
    {
      "cell_type": "markdown",
      "source": [
        "\n",
        "\n",
        "*   City Hotels have more bookings in comparison to Resort Hotels.\n",
        "*   Maximum booking trends are observed in the months of July and August.January,February,November and December observes least booking.\n",
        "*   Maximum bookings were made in the year 2016 in both City and Resort Hotels.\n",
        "*   Almost 27.5% bookings are cancelled. Out of these, 39% are from City Hotels and 61% cancellations are made in Resort Hotels.\n",
        "*   Most preferred meal type is BB which accounts for almost 78% of meal bookings. Other meals types have bookings - HB : 11%, SC : 10%, FB-1%\n",
        "*   Top countries contributing in the hotel business are {PRT,GBR,FRA,ESP,DEU,IRL,ITA,BEL,NLD,USA} in the same order.\n",
        "*   Total stay patterns are observed as more no of days for stay in Resort Hotels than City Hotels.\n",
        "*   Weekday bookings are more in comparison to weekend bookings. Almost 72.31% of stays are made during the week and only 27.69% of stays are during weekends.\n",
        "*   Agent ID 9 has made maximum number of bookings and Agent ID 6 has made minimum number of bookings.\n",
        "*  Booking rate is higher when bookings are made through agents.\n",
        "*  Both types of Hotels have almost same no of repeated bookings.\n",
        "* Room Preference Hotel-Wise  \n",
        "City Hotel :\n",
        "          { Most Preferred : A,D\n",
        "          Least Preferred : G\n",
        "          Negligible Bookings : C,H ,L,P}\n",
        "Resort Hotel : \n",
        "          { Most Preferred : A,D,E\n",
        "          Least Preferred : H\n",
        "          Negligible Bookings : B,L,P}\n",
        "*   Resort Hotel guests require more parking spaces as compared to City Hotel Guests.\n",
        "*   Transient Customer Type make most no of bookings in both hotels whereas customer type Group and Contract make least bookings.\n",
        "*   Maximum bookings are made through Online TA market segment and minimum bookings are made through Aviation Segment.\n",
        "*   Cancellations are more in Non-refundable deposit type.\n",
        "*   No of special requests are more when children or babies are accompanied.\n",
        "*  ADR is higher for City Hotel than Resort Hotel.\n",
        "\n",
        "\n",
        "\n",
        "\n",
        "\n",
        "\n",
        "\n",
        "\n",
        "\n",
        "\n",
        "\n",
        "\n",
        "\n",
        "\n",
        "\n",
        "\n",
        "\n",
        "\n"
      ],
      "metadata": {
        "id": "Fjb1IsQkh3yE"
      }
    },
    {
      "cell_type": "markdown",
      "source": [
        "### ***Hurrah! You have successfully completed your EDA Capstone Project !!!***"
      ],
      "metadata": {
        "id": "gIfDvo9L0UH2"
      }
    }
  ]
}